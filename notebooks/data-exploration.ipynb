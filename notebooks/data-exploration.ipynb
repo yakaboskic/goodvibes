{
 "cells": [
  {
   "cell_type": "code",
   "execution_count": 17,
   "id": "aac2c276-04b4-450b-a9a2-b40d24a1aba9",
   "metadata": {},
   "outputs": [],
   "source": [
    "import numpy as np\n",
    "import pandas as pd\n",
    "import py7zr\n",
    "import xml.etree.ElementTree as ET\n",
    "import re"
   ]
  },
  {
   "cell_type": "code",
   "execution_count": 2,
   "id": "32578bee-4540-43c6-ac02-90041a1ec396",
   "metadata": {},
   "outputs": [],
   "source": [
    "# Load a signature data file\n",
    "with py7zr.SevenZipFile('/home/chase/data/good_vibes/signature_data_files/DoD SAFE-YDBRvrhEBoJpiBKb/Cochise Sensor Data-DS2.7z', mode='r') as z:\n",
    "    z.extractall(path='~/data/good_vibes/signature_data_files/')"
   ]
  },
  {
   "cell_type": "code",
   "execution_count": 4,
   "id": "1c84739b-98d2-4887-95f8-575192ed5692",
   "metadata": {},
   "outputs": [],
   "source": [
    "tree = ET.parse('/home/chase/data/good_vibes/signature_data_files/eglin-sensor-data-ds2/eglin-sensor-data-node-80/2023_03_16_13/Node80-Ch1-21-2023_03_16_13_30_00-9866Hz.wav.xml')\n",
    "root = tree.getroot()"
   ]
  },
  {
   "cell_type": "code",
   "execution_count": 14,
   "id": "a00e8924-3035-4acd-a24f-4b48da10ff9a",
   "metadata": {},
   "outputs": [
    {
     "data": {
      "text/plain": [
       "[('producer', 'Sensor version 80 UPDATE 2, compiled at Mar  1 2023 10:38:56'),\n",
       " ('dataFile', 'Node80-Ch1-21-2023_03_16_13_30_00-9866Hz.wav'),\n",
       " ('nodeId', '80'),\n",
       " ('uptimeSec', '6292'),\n",
       " ('hwConfig', '575'),\n",
       " ('swMode', '8000'),\n",
       " ('status', '3'),\n",
       " ('sensorTimeSec', '1678973399'),\n",
       " ('sensorTime', '2023-03-16T13:29:59.988'),\n",
       " ('sampleRateNominal', '9868'),\n",
       " ('sampleRateActual', '9866.440'),\n",
       " ('lat', '30.61968500'),\n",
       " ('lon', '-86.28324333'),\n",
       " ('altAboveGeoidMeters', '60.7'),\n",
       " ('geoidalSeparationMeters', '0.0'),\n",
       " ('gpsFixTimeSec', '1678970136'),\n",
       " ('gpsFixTime', '2023-03-16T12:35:36.000'),\n",
       " ('numSats', '9')]"
      ]
     },
     "execution_count": 14,
     "metadata": {},
     "output_type": "execute_result"
    }
   ],
   "source": [
    "root.items()"
   ]
  },
  {
   "cell_type": "code",
   "execution_count": 25,
   "id": "8260e780-eda4-4c5f-a092-462d9e1d7de1",
   "metadata": {},
   "outputs": [
    {
     "data": {
      "text/plain": [
       "'80'"
      ]
     },
     "execution_count": 25,
     "metadata": {},
     "output_type": "execute_result"
    }
   ],
   "source": [
    "re.split(r'[._-]', 'Node80-Ch1-21-2023_03_16_13_30_00-9866Hz.wav.xml')[0][4:]"
   ]
  },
  {
   "cell_type": "raw",
   "id": "e27dbfca-59c0-4438-9358-2b77559b16e9",
   "metadata": {},
   "source": []
  }
 ],
 "metadata": {
  "kernelspec": {
   "display_name": "Python 3 (ipykernel)",
   "language": "python",
   "name": "python3"
  },
  "language_info": {
   "codemirror_mode": {
    "name": "ipython",
    "version": 3
   },
   "file_extension": ".py",
   "mimetype": "text/x-python",
   "name": "python",
   "nbconvert_exporter": "python",
   "pygments_lexer": "ipython3",
   "version": "3.11.7"
  }
 },
 "nbformat": 4,
 "nbformat_minor": 5
}
